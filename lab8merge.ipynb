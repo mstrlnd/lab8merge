{
 "cells": [
  {
   "cell_type": "code",
   "execution_count": null,
   "id": "9a56dd66-bfdd-495e-b305-463e8e57b4f4",
   "metadata": {},
   "outputs": [],
   "source": [
    "#imports\n",
    "import pandas as pd\n",
    "import seaborn as sns\n",
    "import matplotlib.pylab as plt\n",
    "import numpy as np"
   ]
  },
  {
   "cell_type": "code",
   "execution_count": null,
   "id": "8a09def2-cda5-4c01-8828-f5a589052d3c",
   "metadata": {},
   "outputs": [],
   "source": [
    "#load data Personality Colors data\n",
    "colors_df = pd.read_csv('PersonalityColorNew P1 Landa 2021 Fall.csv')\n",
    "colors_df.shape"
   ]
  },
  {
   "cell_type": "code",
   "execution_count": null,
   "id": "c5a9cfcf-880a-4623-bc6b-a90e467a49d0",
   "metadata": {},
   "outputs": [],
   "source": [
    "#preview the first 5 rows of data (some variables might get cut off)\n",
    "colors_df.head()"
   ]
  },
  {
   "cell_type": "code",
   "execution_count": null,
   "id": "4d45a302-be23-44f4-a04f-e1e4cca6b4f8",
   "metadata": {},
   "outputs": [],
   "source": [
    "#load data Stress Chill data\n",
    "stress_chill_df = pd.read_csv('StressChill P1 Landa 2021 Fall.csv')\n",
    "stress_chill_df.shape"
   ]
  },
  {
   "cell_type": "code",
   "execution_count": null,
   "id": "a850abbb-d01d-4542-8ce0-567eb3cc3080",
   "metadata": {},
   "outputs": [],
   "source": [
    "#preview the first 5 rows of data (some variables might get cut off)\n",
    "stress_chill_df.head()"
   ]
  },
  {
   "cell_type": "code",
   "execution_count": null,
   "id": "6c1923e7-9714-46b7-931c-3a8caa4d3b7e",
   "metadata": {},
   "outputs": [],
   "source": [
    "#merge the two dataframes on user:id columns.  Inner means only keep rows with user:ids that have an entry in both tables\n",
    "df = pd.merge(colors_df, stress_chill_df, how='inner', on = 'user:id')\n",
    "df.shape"
   ]
  },
  {
   "cell_type": "code",
   "execution_count": null,
   "id": "5b42625a-c161-4442-87cb-077b8e4af5bf",
   "metadata": {},
   "outputs": [],
   "source": [
    "#preview the first 5 rows of data (some variables might get cut off)\n",
    "df.head()"
   ]
  },
  {
   "cell_type": "code",
   "execution_count": null,
   "id": "57c3430e-ce03-4358-a149-1d15d58514b2",
   "metadata": {},
   "outputs": [],
   "source": [
    "#Check the datatypes.  \"object\" is categorical*.  \"int64\" and \"float64\" are numerical \n",
    "#*Warning!  why says object but are text.  Analyze those with word clouds\n",
    "df.dtypes"
   ]
  },
  {
   "cell_type": "code",
   "execution_count": null,
   "id": "ce59593d-45ae-4bb0-b176-e5b6f2f26539",
   "metadata": {},
   "outputs": [],
   "source": [
    "#See how many surveys were taken by each user\n",
    "plot = sns.countplot(data=df, x='user:id')\n",
    "plot.set_xticklabels(plot.get_xticklabels(), rotation=75)"
   ]
  },
  {
   "cell_type": "code",
   "execution_count": null,
   "id": "bc5ce915-d015-4498-af40-53ef6b1e8acb",
   "metadata": {},
   "outputs": [],
   "source": []
  },
  {
   "cell_type": "code",
   "execution_count": null,
   "id": "98a130bc-60e8-484c-971a-51fc4217f6aa",
   "metadata": {},
   "outputs": [],
   "source": []
  },
  {
   "cell_type": "code",
   "execution_count": null,
   "id": "afcbef33-4149-405f-b5ea-f909597799db",
   "metadata": {},
   "outputs": [],
   "source": []
  }
 ],
 "metadata": {
  "kernelspec": {
   "display_name": "Python 3 (ipykernel)",
   "language": "python",
   "name": "python3"
  },
  "language_info": {
   "codemirror_mode": {
    "name": "ipython",
    "version": 3
   },
   "file_extension": ".py",
   "mimetype": "text/x-python",
   "name": "python",
   "nbconvert_exporter": "python",
   "pygments_lexer": "ipython3",
   "version": "3.9.12"
  }
 },
 "nbformat": 4,
 "nbformat_minor": 5
}
